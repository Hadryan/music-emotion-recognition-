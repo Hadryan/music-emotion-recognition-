{
  "nbformat": 4,
  "nbformat_minor": 0,
  "metadata": {
    "colab": {
      "name": "song comparison using MIDI data",
      "provenance": [],
      "collapsed_sections": [],
      "include_colab_link": true
    },
    "kernelspec": {
      "display_name": "Python 3",
      "name": "python3"
    }
  },
  "cells": [
    {
      "cell_type": "markdown",
      "metadata": {
        "id": "view-in-github",
        "colab_type": "text"
      },
      "source": [
        "<a href=\"https://colab.research.google.com/github/makarandv/music-emotion-recognition-/blob/master/song_comparison_using_MIDI_data.ipynb\" target=\"_parent\"><img src=\"https://colab.research.google.com/assets/colab-badge.svg\" alt=\"Open In Colab\"/></a>"
      ]
    },
    {
      "cell_type": "code",
      "metadata": {
        "id": "jW51FZQJTAvz",
        "colab_type": "code",
        "colab": {
          "base_uri": "https://localhost:8080/",
          "height": 34
        },
        "outputId": "4a8145aa-fb9d-4926-d5a6-59c28f7b0e20"
      },
      "source": [
        "!pip install mido"
      ],
      "execution_count": 2,
      "outputs": [
        {
          "output_type": "stream",
          "text": [
            "Requirement already satisfied: mido in /usr/local/lib/python3.6/dist-packages (1.2.9)\n"
          ],
          "name": "stdout"
        }
      ]
    },
    {
      "cell_type": "code",
      "metadata": {
        "id": "aw2DYghUTKAX",
        "colab_type": "code",
        "colab": {
          "base_uri": "https://localhost:8080/",
          "height": 204
        },
        "outputId": "1f16ba7e-4641-4b7e-937d-56669251464d"
      },
      "source": [
        "!pip install aubio"
      ],
      "execution_count": 3,
      "outputs": [
        {
          "output_type": "stream",
          "text": [
            "Collecting aubio\n",
            "\u001b[?25l  Downloading https://files.pythonhosted.org/packages/cd/80/302d89240603e5347c7f8026c8b02c59f8dfaec66c91a743d82de7c86006/aubio-0.4.9.tar.gz (479kB)\n",
            "\r\u001b[K     |▊                               | 10kB 15.8MB/s eta 0:00:01\r\u001b[K     |█▍                              | 20kB 2.0MB/s eta 0:00:01\r\u001b[K     |██                              | 30kB 2.7MB/s eta 0:00:01\r\u001b[K     |██▊                             | 40kB 2.9MB/s eta 0:00:01\r\u001b[K     |███▍                            | 51kB 2.4MB/s eta 0:00:01\r\u001b[K     |████                            | 61kB 2.7MB/s eta 0:00:01\r\u001b[K     |████▉                           | 71kB 2.9MB/s eta 0:00:01\r\u001b[K     |█████▌                          | 81kB 3.2MB/s eta 0:00:01\r\u001b[K     |██████▏                         | 92kB 3.4MB/s eta 0:00:01\r\u001b[K     |██████▉                         | 102kB 3.3MB/s eta 0:00:01\r\u001b[K     |███████▌                        | 112kB 3.3MB/s eta 0:00:01\r\u001b[K     |████████▏                       | 122kB 3.3MB/s eta 0:00:01\r\u001b[K     |█████████                       | 133kB 3.3MB/s eta 0:00:01\r\u001b[K     |█████████▋                      | 143kB 3.3MB/s eta 0:00:01\r\u001b[K     |██████████▎                     | 153kB 3.3MB/s eta 0:00:01\r\u001b[K     |███████████                     | 163kB 3.3MB/s eta 0:00:01\r\u001b[K     |███████████▋                    | 174kB 3.3MB/s eta 0:00:01\r\u001b[K     |████████████▎                   | 184kB 3.3MB/s eta 0:00:01\r\u001b[K     |█████████████                   | 194kB 3.3MB/s eta 0:00:01\r\u001b[K     |█████████████▊                  | 204kB 3.3MB/s eta 0:00:01\r\u001b[K     |██████████████▍                 | 215kB 3.3MB/s eta 0:00:01\r\u001b[K     |███████████████                 | 225kB 3.3MB/s eta 0:00:01\r\u001b[K     |███████████████▊                | 235kB 3.3MB/s eta 0:00:01\r\u001b[K     |████████████████▍               | 245kB 3.3MB/s eta 0:00:01\r\u001b[K     |█████████████████               | 256kB 3.3MB/s eta 0:00:01\r\u001b[K     |█████████████████▉              | 266kB 3.3MB/s eta 0:00:01\r\u001b[K     |██████████████████▌             | 276kB 3.3MB/s eta 0:00:01\r\u001b[K     |███████████████████▏            | 286kB 3.3MB/s eta 0:00:01\r\u001b[K     |███████████████████▉            | 296kB 3.3MB/s eta 0:00:01\r\u001b[K     |████████████████████▌           | 307kB 3.3MB/s eta 0:00:01\r\u001b[K     |█████████████████████▏          | 317kB 3.3MB/s eta 0:00:01\r\u001b[K     |██████████████████████          | 327kB 3.3MB/s eta 0:00:01\r\u001b[K     |██████████████████████▋         | 337kB 3.3MB/s eta 0:00:01\r\u001b[K     |███████████████████████▎        | 348kB 3.3MB/s eta 0:00:01\r\u001b[K     |████████████████████████        | 358kB 3.3MB/s eta 0:00:01\r\u001b[K     |████████████████████████▋       | 368kB 3.3MB/s eta 0:00:01\r\u001b[K     |█████████████████████████▎      | 378kB 3.3MB/s eta 0:00:01\r\u001b[K     |██████████████████████████      | 389kB 3.3MB/s eta 0:00:01\r\u001b[K     |██████████████████████████▊     | 399kB 3.3MB/s eta 0:00:01\r\u001b[K     |███████████████████████████▍    | 409kB 3.3MB/s eta 0:00:01\r\u001b[K     |████████████████████████████    | 419kB 3.3MB/s eta 0:00:01\r\u001b[K     |████████████████████████████▊   | 430kB 3.3MB/s eta 0:00:01\r\u001b[K     |█████████████████████████████▍  | 440kB 3.3MB/s eta 0:00:01\r\u001b[K     |██████████████████████████████  | 450kB 3.3MB/s eta 0:00:01\r\u001b[K     |██████████████████████████████▉ | 460kB 3.3MB/s eta 0:00:01\r\u001b[K     |███████████████████████████████▌| 471kB 3.3MB/s eta 0:00:01\r\u001b[K     |████████████████████████████████| 481kB 3.3MB/s \n",
            "\u001b[?25hRequirement already satisfied: numpy in /usr/local/lib/python3.6/dist-packages (from aubio) (1.18.5)\n",
            "Building wheels for collected packages: aubio\n",
            "  Building wheel for aubio (setup.py) ... \u001b[?25l\u001b[?25hdone\n",
            "  Created wheel for aubio: filename=aubio-0.4.9-cp36-cp36m-linux_x86_64.whl size=386261 sha256=d9709b1d126296d7341a88bafccd439442f964362ba063db3e5940e44cd89316\n",
            "  Stored in directory: /root/.cache/pip/wheels/ac/93/da/33a0041dff56d6c1faf82c83ff487cf669442b7087db20a995\n",
            "Successfully built aubio\n",
            "Installing collected packages: aubio\n",
            "Successfully installed aubio-0.4.9\n"
          ],
          "name": "stdout"
        }
      ]
    },
    {
      "cell_type": "code",
      "metadata": {
        "id": "fcS3qcIFDHHt",
        "colab_type": "code",
        "colab": {
          "base_uri": "https://localhost:8080/",
          "height": 122
        },
        "outputId": "88c2f551-d8c5-48ff-9579-a2df64b760c8"
      },
      "source": [
        "from google.colab import drive\n",
        "drive.mount('/content/drive')\n",
        "import os\n",
        "os.chdir(\"drive/My Drive/\")\n"
      ],
      "execution_count": 4,
      "outputs": [
        {
          "output_type": "stream",
          "text": [
            "Go to this URL in a browser: https://accounts.google.com/o/oauth2/auth?client_id=947318989803-6bn6qk8qdgf4n4g3pfee6491hc0brc4i.apps.googleusercontent.com&redirect_uri=urn%3aietf%3awg%3aoauth%3a2.0%3aoob&scope=email%20https%3a%2f%2fwww.googleapis.com%2fauth%2fdocs.test%20https%3a%2f%2fwww.googleapis.com%2fauth%2fdrive%20https%3a%2f%2fwww.googleapis.com%2fauth%2fdrive.photos.readonly%20https%3a%2f%2fwww.googleapis.com%2fauth%2fpeopleapi.readonly&response_type=code\n",
            "\n",
            "Enter your authorization code:\n",
            "··········\n",
            "Mounted at /content/drive\n"
          ],
          "name": "stdout"
        }
      ]
    },
    {
      "cell_type": "markdown",
      "metadata": {
        "id": "WQW77PE-BDqy",
        "colab_type": "text"
      },
      "source": [
        "The code below is to read the files from the folder "
      ]
    },
    {
      "cell_type": "code",
      "metadata": {
        "id": "Ypvc_k-TBMiq",
        "colab_type": "code",
        "colab": {
          "base_uri": "https://localhost:8080/",
          "height": 462
        },
        "outputId": "04f554d2-e3c2-415f-f0ed-e4a8631acc84"
      },
      "source": [
        "'''\n",
        "from google.colab import drive\n",
        "drive.mount('/content/drive')\n",
        "import os\n",
        "os.chdir(\"drive/My Drive/\")\n",
        "'''\n",
        "import sys\n",
        "from aubio import source, notes\n",
        "from mido import Message, MetaMessage, MidiFile, MidiTrack, second2tick, bpm2tempo\n",
        "import scipy.io.wavfile as wav\n",
        "\n",
        "if len(sys.argv) < 3:\n",
        "    print(\"Usage: %s <filename> <output> [samplerate]\" % sys.argv[0])\n",
        "    sys.exit(1)\n",
        "\n",
        "    \n",
        "filename = sys.argv[1]\n",
        "midioutput = sys.argv[2]\n",
        "\n",
        "downsample = 1\n",
        "samplerate = 44100 // downsample\n",
        "if len( sys.argv ) > 3: samplerate = int(sys.argv[3])\n",
        "\n",
        "win_s = 512 // downsample # fft size\n",
        "hop_s = 256 // downsample # hop size\n",
        "\n",
        "import glob \n",
        "files = glob.glob('/content/drive/My Drive/testsamples/*')\n",
        "print(files)\n",
        "totd=[]\n",
        "file_path = '/content/drive/My Drive/testsamples/vandematramlata.wav'\n",
        "#file_path = \"'files(0)'\"\n",
        "(source_rate, source_sig) = wav.read(file_path)\n",
        "duration_seconds = len(source_sig) / float(source_rate)\n",
        "totd.append(duration_seconds)\n",
        "file_path = '/content/drive/My Drive/testsamples/vandematramshreya.wav'\n",
        "#file_path = \"'files(0)'\"\n",
        "(source_rate, source_sig) = wav.read(file_path)\n",
        "duration_seconds = len(source_sig) / float(source_rate)\n",
        "totd.append(duration_seconds)\n",
        "file_path = '/content/drive/My Drive/testsamples/vandematramanuja.wav'\n",
        "#file_path = \"'files(0)'\"\n",
        "(source_rate, source_sig) = wav.read(file_path)\n",
        "duration_seconds = len(source_sig) / float(source_rate)\n",
        "totd.append(duration_seconds)\n",
        "print(len(files))\n",
        "no= len(files)\n",
        "mydata2= [[]]\n",
        "test1=[[]]\n",
        "for i in range(no):\n",
        "\tmydata2.append([])\n",
        "for i in range(no):\n",
        "  test1.append([])\n",
        "\n",
        "def frames2tick(frames, samplerate=samplerate):\n",
        "      sec = frames / float(samplerate)\n",
        "      return int(second2tick(sec, ticks_per_beat, tempo))\n",
        " \n",
        "\n",
        "mydata = []\n",
        "mydata1= []\n",
        "\n",
        "c=0\n",
        "for e in files : \n",
        "  print(e)\n",
        "  s = source(e , samplerate, hop_s)\n",
        "  samplerate = s.samplerate\n",
        "  tolerance = 0.8\n",
        "  notes_o = notes(\"default\", win_s, hop_s, samplerate)\n",
        "  #\n",
        "  # create a midi file\n",
        "  mid = MidiFile()\n",
        "  track = MidiTrack()\n",
        "  mid.tracks.append(track)\n",
        "  ticks_per_beat = mid.ticks_per_beat # default: 480\n",
        "  bpm = 120 # default midi tempo\n",
        "  tempo = bpm2tempo(bpm)\n",
        "  track.append(MetaMessage('set_tempo', tempo=tempo))\n",
        "  track.append(MetaMessage('time_signature', numerator=4, denominator=4))\n",
        "  last_time = 0\n",
        "  total_frames = 0\n",
        "  t1 = []\n",
        "  while True:\n",
        "        samples, read = s()\n",
        "        new_note = notes_o(samples)\n",
        "        if (new_note[0] != 0):\n",
        "          note_str = ' '.join([\"%.2f\" % i for i in new_note])\n",
        "          d = new_note;\n",
        "          print(\"%.6f\" % (total_frames/float(samplerate)), d)\n",
        "          e1 = []\n",
        "          for e in d : \n",
        "            e1.append(int(e))\n",
        "            t1.append((total_frames/float(samplerate), e1[:]))\n",
        "            delta = frames2tick(total_frames) - last_time\n",
        "            last_time = frames2tick(total_frames)\n",
        "          test1[c].append (float(\"%.6f\" % (total_frames/float(samplerate))))\n",
        "          test1[c].append (int(new_note[0]))\n",
        "          test1[c].append (int(new_note[1]))\n",
        "          test1[c].append(int(new_note[2]))\n",
        "        total_frames += read\n",
        "        if read < hop_s: break\n",
        "  #mydata.append(t1)\n",
        "  mydata2[c].append([t1])\n",
        "  c=c+1"
      ],
      "execution_count": 5,
      "outputs": [
        {
          "output_type": "stream",
          "text": [
            "['/content/drive/My Drive/testsamples/vandematramlata.wav', '/content/drive/My Drive/testsamples/vandematramshreya.wav', '/content/drive/My Drive/testsamples/vandematramanuja.wav']\n",
            "3\n",
            "/content/drive/My Drive/testsamples/vandematramlata.wav\n",
            "0.278639 [ 57. 105.  39.]\n",
            "0.325079 [ 58. 106.  57.]\n",
            "0.574694 [ 62. 117.  58.]\n",
            "2.583220 [ 69. 118.  62.]\n",
            "3.779048 [ 70. 119.  69.]\n",
            "5.787574 [ 61. 114.   0.]\n",
            "/content/drive/My Drive/testsamples/vandematramshreya.wav\n",
            "0.150930 [61. 88.  0.]\n",
            "0.185760 [60. 81. 61.]\n",
            "0.226395 [58. 83. 60.]\n",
            "0.278639 [58. 93. 58.]\n",
            "0.330884 [60. 94. 58.]\n",
            "0.679184 [66. 99. 60.]\n",
            "3.082449 [ 72. 105.  66.]\n",
            "5.433469 [ 72. 107.   0.]\n",
            "6.635102 [62. 98.  0.]\n",
            "/content/drive/My Drive/testsamples/vandematramanuja.wav\n",
            "1.927256 [ 59. 112.  -1.]\n",
            "2.304580 [ 63. 112.   0.]\n",
            "4.806531 [ 72. 111.  63.]\n",
            "8.504308 [ 62. 108.   0.]\n",
            "8.655238 [ 60. 103.   0.]\n"
          ],
          "name": "stdout"
        }
      ]
    },
    {
      "cell_type": "code",
      "metadata": {
        "id": "Uf4oQauQQaCH",
        "colab_type": "code",
        "colab": {
          "base_uri": "https://localhost:8080/",
          "height": 54
        },
        "outputId": "329cf3ab-5209-421a-b430-fa46eb4901f1"
      },
      "source": [
        "print(test1)"
      ],
      "execution_count": 6,
      "outputs": [
        {
          "output_type": "stream",
          "text": [
            "[[0.278639, 57, 105, 39, 0.325079, 58, 106, 57, 0.574694, 62, 117, 58, 2.58322, 69, 118, 62, 3.779048, 70, 119, 69, 5.787574, 61, 114, 0], [0.15093, 61, 88, 0, 0.18576, 60, 81, 61, 0.226395, 58, 83, 60, 0.278639, 58, 93, 58, 0.330884, 60, 94, 58, 0.679184, 66, 99, 60, 3.082449, 72, 105, 66, 5.433469, 72, 107, 0, 6.635102, 62, 98, 0], [1.927256, 59, 112, -1, 2.30458, 63, 112, 0, 4.806531, 72, 111, 63, 8.504308, 62, 108, 0, 8.655238, 60, 103, 0], []]\n"
          ],
          "name": "stdout"
        }
      ]
    },
    {
      "cell_type": "code",
      "metadata": {
        "id": "6cxOChdnSWTt",
        "colab_type": "code",
        "colab": {
          "base_uri": "https://localhost:8080/",
          "height": 34
        },
        "outputId": "8d18270f-54f2-412c-973f-f08be5e3c835"
      },
      "source": [
        "print (test1[0])"
      ],
      "execution_count": 7,
      "outputs": [
        {
          "output_type": "stream",
          "text": [
            "[0.278639, 57, 105, 39, 0.325079, 58, 106, 57, 0.574694, 62, 117, 58, 2.58322, 69, 118, 62, 3.779048, 70, 119, 69, 5.787574, 61, 114, 0]\n"
          ],
          "name": "stdout"
        }
      ]
    },
    {
      "cell_type": "code",
      "metadata": {
        "colab_type": "code",
        "id": "UdUY5cQUkhgc",
        "colab": {
          "base_uri": "https://localhost:8080/",
          "height": 204
        },
        "outputId": "315c5a91-d6c1-489e-d518-b78e0fd26c12"
      },
      "source": [
        "no=0\n",
        "print(test1[no])\n",
        "n=len(test1[no])\n",
        "\n",
        "# to find the reference note find the duration of each note\n",
        "i=0\n",
        "j=4\n",
        "dur0=[]\n",
        "\n",
        "print(\"duration of notes\")\n",
        "while(j<n):\n",
        "  time = test1[no][j]- test1[no][i]\n",
        "  dur0.append(round(time,6))\n",
        "  i=i+4\n",
        "  j=j+4\n",
        "temp= totd[no]-test1[no][i]\n",
        "\n",
        "dur0.append(round(temp,6))\n",
        "print(dur0)\n",
        "#identify the max duration and corrosponding note\n",
        "maxd=0\n",
        "j=1\n",
        "k=len(dur0)\n",
        "while j<k:\n",
        "  if (dur0[maxd]==dur0[j]):\n",
        "    if (test1[no][maxd*4+2]<test1[no][j*4+2]):\n",
        "      print(test1[no][maxd*4+2])\n",
        "      print(test1[no][j*4+2])\n",
        "      maxd=j\n",
        "  elif (dur0[maxd]<dur0[j]):\n",
        "    maxd=j\n",
        "  j=j+1\n",
        "\n",
        "print(maxd)\n",
        "# display reference note\n",
        "print(test1[no][(maxd)*4+1])\n",
        "refnote= test1[no][(maxd)*4+1]\n",
        "# create relative note sequence and intensity\n",
        "reln0=[]\n",
        "inten0=[]\n",
        "j=1\n",
        "while(j<n):\n",
        "  note= refnote - test1[no][j]\n",
        "  reln0.append(note)\n",
        "  inten0.append(test1[no][j+1])\n",
        "  j=j+4\n",
        "print(\"relative notes\")\n",
        "print(reln0)\n",
        "print(\"intensity\")\n",
        "print(inten0)"
      ],
      "execution_count": 9,
      "outputs": [
        {
          "output_type": "stream",
          "text": [
            "[0.278639, 57, 105, 39, 0.325079, 58, 106, 57, 0.574694, 62, 117, 58, 2.58322, 69, 118, 62, 3.779048, 70, 119, 69, 5.787574, 61, 114, 0]\n",
            "duration of notes\n",
            "[0.04644, 0.249615, 2.008526, 1.195828, 2.008526, 0.168095]\n",
            "117\n",
            "119\n",
            "4\n",
            "70\n",
            "relative notes\n",
            "[13, 12, 8, 1, 0, 9]\n",
            "intensity\n",
            "[105, 106, 117, 118, 119, 114]\n"
          ],
          "name": "stdout"
        }
      ]
    },
    {
      "cell_type": "code",
      "metadata": {
        "id": "Gs2aF-ZVkTle",
        "colab_type": "code",
        "colab": {
          "base_uri": "https://localhost:8080/",
          "height": 190
        },
        "outputId": "65a6d91b-ea43-4e73-82f1-ec4bf78edbc4"
      },
      "source": [
        "no=1\n",
        "print(test1[no])\n",
        "n=len(test1[no])\n",
        "\n",
        "# to find the reference note find the duration of each note\n",
        "i=0\n",
        "j=4\n",
        "dur1=[]\n",
        "\n",
        "print(\"duration of notes\")\n",
        "while(j<n):\n",
        "  time = test1[no][j]- test1[no][i]\n",
        "  dur1.append(round(time,6))\n",
        "  i=i+4\n",
        "  j=j+4\n",
        "temp= totd[no]-test1[no][i]\n",
        "\n",
        "dur1.append(round(temp,6))\n",
        "print(dur1)\n",
        "#identify the max duration and corrosponding note\n",
        "maxd=0\n",
        "j=1\n",
        "k=len(dur1)\n",
        "while j<k:\n",
        "  if (dur1[maxd]==dur1[j]):\n",
        "    if (test1[no][maxd*4+2]<test1[no][j*4+2]):\n",
        "      print(test1[no][maxd*4+2])\n",
        "      print(test1[no][j*4+2])\n",
        "      maxd=j\n",
        "  elif (dur1[maxd]<dur1[j]):\n",
        "    maxd=j\n",
        "  j=j+1\n",
        "\n",
        "print(maxd)\n",
        "# display reference note\n",
        "print(test1[no][(maxd)*4+1])\n",
        "refnote= test1[no][(maxd)*4+1]\n",
        "# create relative note sequence and intensity\n",
        "reln1=[]\n",
        "inten1=[]\n",
        "j=1\n",
        "while(j<n):\n",
        "  note= refnote - test1[no][j]\n",
        "  reln1.append(note)\n",
        "  inten1.append(test1[no][j+1])\n",
        "  j=j+4\n",
        "print(\"relative notes\")\n",
        "print(reln1)\n",
        "print(\"intensity\")\n",
        "print(inten1)"
      ],
      "execution_count": 11,
      "outputs": [
        {
          "output_type": "stream",
          "text": [
            "[0.15093, 61, 88, 0, 0.18576, 60, 81, 61, 0.226395, 58, 83, 60, 0.278639, 58, 93, 58, 0.330884, 60, 94, 58, 0.679184, 66, 99, 60, 3.082449, 72, 105, 66, 5.433469, 72, 107, 0, 6.635102, 62, 98, 0]\n",
            "duration of notes\n",
            "[0.03483, 0.040635, 0.052244, 0.052245, 0.3483, 2.403265, 2.35102, 1.201633, 0.138821]\n",
            "5\n",
            "66\n",
            "relative notes\n",
            "[5, 6, 8, 8, 6, 0, -6, -6, 4]\n",
            "intensity\n",
            "[88, 81, 83, 93, 94, 99, 105, 107, 98]\n"
          ],
          "name": "stdout"
        }
      ]
    },
    {
      "cell_type": "code",
      "metadata": {
        "id": "QGEAgz7yUwqU",
        "colab_type": "code",
        "colab": {
          "base_uri": "https://localhost:8080/",
          "height": 170
        },
        "outputId": "c7b5f277-04e7-4290-eea3-d59d1c8b5160"
      },
      "source": [
        "no=2\n",
        "print(test1[no])\n",
        "n=len(test1[no])\n",
        "\n",
        "# to find the reference note find the duration of each note\n",
        "i=0\n",
        "j=4\n",
        "dur2=[]\n",
        "\n",
        "print(\"duration of notes\")\n",
        "while(j<n):\n",
        "  time = test1[no][j]- test1[no][i]\n",
        "  dur2.append(round(time,6))\n",
        "  i=i+4\n",
        "  j=j+4\n",
        "temp= totd[no]-test1[no][i]\n",
        "\n",
        "dur2.append(round(temp,6))\n",
        "print(dur2)\n",
        "#identify the max duration and corrosponding note\n",
        "maxd=0\n",
        "j=1\n",
        "k=len(dur2)\n",
        "while j<k:\n",
        "  if (dur2[maxd]==dur2[j]):\n",
        "    if (test1[no][maxd*4+2]<test1[no][j*4+2]):\n",
        "      print(test1[no][maxd*4+2])\n",
        "      print(test1[no][j*4+2])\n",
        "      maxd=j\n",
        "  elif (dur2[maxd]<dur2[j]):\n",
        "    maxd=j\n",
        "  j=j+1\n",
        "\n",
        "print(maxd)\n",
        "# display reference note\n",
        "print(test1[no][(maxd)*4+1])\n",
        "refnote= test1[no][(maxd)*4+1]\n",
        "# create relative note sequence and intensity\n",
        "reln2=[]\n",
        "inten2=[]\n",
        "j=1\n",
        "while(j<n):\n",
        "  note= refnote - test1[no][j]\n",
        "  reln2.append(note)\n",
        "  inten2.append(test1[no][j+1])\n",
        "  j=j+4\n",
        "print(\"relative notes\")\n",
        "print(reln2)\n",
        "print(\"intensity\")\n",
        "print(inten2)"
      ],
      "execution_count": 12,
      "outputs": [
        {
          "output_type": "stream",
          "text": [
            "[1.927256, 59, 112, -1, 2.30458, 63, 112, 0, 4.806531, 72, 111, 63, 8.504308, 62, 108, 0, 8.655238, 60, 103, 0]\n",
            "duration of notes\n",
            "[0.377324, 2.501951, 3.697777, 0.15093, 0.162653]\n",
            "2\n",
            "72\n",
            "relative notes\n",
            "[13, 9, 0, 10, 12]\n",
            "intensity\n",
            "[112, 112, 111, 108, 103]\n"
          ],
          "name": "stdout"
        }
      ]
    },
    {
      "cell_type": "code",
      "metadata": {
        "id": "v_t-dv6TVR-p",
        "colab_type": "code",
        "colab": {
          "base_uri": "https://localhost:8080/",
          "height": 34
        },
        "outputId": "bbba8c1d-afcd-4a64-c08b-f1af69494513"
      },
      "source": [
        "print (test1[2])"
      ],
      "execution_count": 13,
      "outputs": [
        {
          "output_type": "stream",
          "text": [
            "[1.927256, 59, 112, -1, 2.30458, 63, 112, 0, 4.806531, 72, 111, 63, 8.504308, 62, 108, 0, 8.655238, 60, 103, 0]\n"
          ],
          "name": "stdout"
        }
      ]
    },
    {
      "cell_type": "code",
      "metadata": {
        "id": "if7-EXqTV5Th",
        "colab_type": "code",
        "colab": {
          "base_uri": "https://localhost:8080/",
          "height": 527
        },
        "outputId": "b1f64cab-e4b5-4a18-fe75-51ade87ac880"
      },
      "source": [
        "import numpy as np\n",
        "from scipy.spatial.distance import euclidean\n",
        "\n",
        "from fastdtw import fastdtw\n",
        "# note represents reference notes from midi for seq 1 2 and 3 \n",
        "print(\"notes\")\n",
        "print(reln0)\n",
        "print(reln1)\n",
        "print(reln2)\n",
        "\n",
        "# int represents intensity\n",
        "print(\"intensity\")\n",
        "print(inten0)\n",
        "print(inten1)\n",
        "print(inten2)\n",
        "\n",
        "# dur represents duration\n",
        "print(\"duration\")\n",
        "print(dur0)\n",
        "print(dur1)\n",
        "print(dur2)\n",
        "\n",
        "print(\"comparision of seq 0 and 1\")\n",
        "x = np.array(reln0)\n",
        "y = np.array(reln1)\n",
        "distance, path = fastdtw(x, y, dist=euclidean)\n",
        "d1 =distance\n",
        "print(d1)\n",
        "x = np.array(inten0)\n",
        "y = np.array(inten1)\n",
        "distance, path = fastdtw(x, y, dist=euclidean)\n",
        "d2=distance\n",
        "print(d2)\n",
        "x = np.array(dur0)\n",
        "y = np.array(dur1)\n",
        "distance, path = fastdtw(x, y, dist=euclidean)\n",
        "d3= distance\n",
        "print(d3)\n",
        "d=d1+d2+d3\n",
        "print(\"total distance\")\n",
        "print(d)\n",
        "\n",
        "print(\"comparision of seq 0 and 2\")\n",
        "x = np.array(reln0)\n",
        "y = np.array(reln2)\n",
        "distance, path = fastdtw(x, y, dist=euclidean)\n",
        "d1 =distance\n",
        "print(d1)\n",
        "x = np.array(inten0)\n",
        "y = np.array(inten2)\n",
        "distance, path = fastdtw(x, y, dist=euclidean)\n",
        "d2=distance\n",
        "print(d2)\n",
        "x = np.array(dur0)\n",
        "y = np.array(dur2)\n",
        "distance, path = fastdtw(x, y, dist=euclidean)\n",
        "d3= distance\n",
        "print(d3)\n",
        "d=d1+d2+d3\n",
        "print(\"total distance\")\n",
        "print(d)\n",
        "\n",
        "print(\"comparision of seq 1 and 2\")\n",
        "x = np.array(reln1)\n",
        "y = np.array(reln2)\n",
        "distance, path = fastdtw(x, y, dist=euclidean)\n",
        "d1 =distance\n",
        "print(d1)\n",
        "x = np.array(inten1)\n",
        "y = np.array(inten2)\n",
        "distance, path = fastdtw(x, y, dist=euclidean)\n",
        "d2=distance\n",
        "print(d2)\n",
        "x = np.array(dur1)\n",
        "y = np.array(dur2)\n",
        "distance, path = fastdtw(x, y, dist=euclidean)\n",
        "d3= distance\n",
        "print(d3)\n",
        "d=d1+d2+d3\n",
        "print(\"total distance\")\n",
        "print(d)"
      ],
      "execution_count": 20,
      "outputs": [
        {
          "output_type": "stream",
          "text": [
            "notes\n",
            "[13, 12, 8, 1, 0, 9]\n",
            "[5, 6, 8, 8, 6, 0, -6, -6, 4]\n",
            "[13, 9, 0, 10, 12]\n",
            "intensity\n",
            "[105, 106, 117, 118, 119, 114]\n",
            "[88, 81, 83, 93, 94, 99, 105, 107, 98]\n",
            "[112, 112, 111, 108, 103]\n",
            "duration\n",
            "[0.04644, 0.249615, 2.008526, 1.195828, 2.008526, 0.168095]\n",
            "[0.03483, 0.040635, 0.052244, 0.052245, 0.3483, 2.403265, 2.35102, 1.201633, 0.138821]\n",
            "[0.377324, 2.501951, 3.697777, 0.15093, 0.162653]\n",
            "comparision of seq 0 and 1\n",
            "34.0\n",
            "142.0\n",
            "1.7069140000000007\n",
            "total distance\n",
            "177.706914\n",
            "comparision of seq 0 and 2\n",
            "7.0\n",
            "47.0\n",
            "3.969999\n",
            "total distance\n",
            "57.969999\n",
            "comparision of seq 1 and 2\n",
            "42.0\n",
            "122.0\n",
            "3.8783439999999993\n",
            "total distance\n",
            "167.878344\n"
          ],
          "name": "stdout"
        }
      ]
    }
  ]
}